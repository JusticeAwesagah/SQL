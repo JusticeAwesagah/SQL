{
    "metadata": {
        "kernelspec": {
            "name": "SQL",
            "display_name": "SQL",
            "language": "sql"
        },
        "language_info": {
            "name": "sql",
            "version": ""
        }
    },
    "nbformat_minor": 2,
    "nbformat": 4,
    "cells": [
        {
            "cell_type": "markdown",
            "source": [
                "# SQL TIPS AND TRICKS"
            ],
            "metadata": {
                "azdata_cell_guid": "d79c1150-161d-4037-87b6-3821a6466d9b"
            },
            "attachments": {}
        },
        {
            "cell_type": "markdown",
            "source": [
                "1\\. Heading"
            ],
            "metadata": {
                "azdata_cell_guid": "54c8b7d2-f82c-4d2e-8c3e-fe1bf74edba3"
            },
            "attachments": {}
        },
        {
            "cell_type": "markdown",
            "source": [
                "USe Case  \n",
                "Explanation  \n",
                "\n",
                "<span style=\"color: #0000ff;\">SELECT</span> <span style=\"color: #0000ff;\">TOP</span> <span style=\"color: #09885a;\">5</span> c.city\\_id, c.store\\_city, p.product\\_name\n",
                "\n",
                "<span style=\"color: #0000ff;\">FROM</span> dbo.cities\\_dim c\n",
                "\n",
                "<span style=\"color: #0000ff;\">INNER JOIN</span> dbo.products\\_dim p <span style=\"color: #0000ff;\">ON</span> p.product\\_id <span style=\"color: #000000;\">=</span> (\n",
                "\n",
                "    <span style=\"color: #0000ff;\">SELECT</span> <span style=\"color: #0000ff;\">TOP</span> <span style=\"color: #09885a;\">1</span> product\\_id\n",
                "\n",
                "    <span style=\"color: #0000ff;\">FROM</span> dbo.transactions\\_fact t\n",
                "\n",
                "    <span style=\"color: #0000ff;\">WHERE</span> t.city\\_id <span style=\"color: #000000;\">=</span> c.city\\_id);"
            ],
            "metadata": {
                "azdata_cell_guid": "07581921-6307-47f2-b4be-469de3b5e575"
            },
            "attachments": {}
        },
        {
            "cell_type": "code",
            "source": [
                "SELECT TOP 5 c.city_id, c.store_city, p.product_name\r\n",
                "FROM dbo.cities_dim c\r\n",
                "INNER JOIN dbo.products_dim p ON p.product_id = (\r\n",
                "    SELECT TOP 1 product_id\r\n",
                "    FROM dbo.transactions_fact t\r\n",
                "    WHERE t.city_id = c.city_id);"
            ],
            "metadata": {
                "azdata_cell_guid": "333fcd48-4541-48a8-8980-47826ab630cb",
                "language": "sql"
            },
            "outputs": [
                {
                    "output_type": "display_data",
                    "data": {
                        "text/html": "(5 rows affected)"
                    },
                    "metadata": {}
                },
                {
                    "output_type": "display_data",
                    "data": {
                        "text/html": "Total execution time: 00:00:00.022"
                    },
                    "metadata": {}
                },
                {
                    "output_type": "execute_result",
                    "execution_count": 2,
                    "data": {
                        "application/vnd.dataresource+json": {
                            "schema": {
                                "fields": [
                                    {
                                        "name": "city_id"
                                    },
                                    {
                                        "name": "store_city"
                                    },
                                    {
                                        "name": "product_name"
                                    }
                                ]
                            },
                            "data": [
                                {
                                    "city_id": "2",
                                    "store_city": "Bellingham",
                                    "product_name": "Tip Top Lox"
                                },
                                {
                                    "city_id": "3",
                                    "store_city": "Bremerton",
                                    "product_name": "Great Bagels"
                                },
                                {
                                    "city_id": "6",
                                    "store_city": "Beverly Hills",
                                    "product_name": "Sunset 60 Watt Lightbulb"
                                },
                                {
                                    "city_id": "7",
                                    "store_city": "Los Angeles",
                                    "product_name": "Ebony Prepared Salad"
                                },
                                {
                                    "city_id": "11",
                                    "store_city": "Portland",
                                    "product_name": "Red Wing Bees Wax Candles"
                                }
                            ]
                        },
                        "text/html": "<table><tr><th>city_id</th><th>store_city</th><th>product_name</th></tr><tr><td>2</td><td>Bellingham</td><td>Tip Top Lox</td></tr><tr><td>3</td><td>Bremerton</td><td>Great Bagels</td></tr><tr><td>6</td><td>Beverly Hills</td><td>Sunset 60 Watt Lightbulb</td></tr><tr><td>7</td><td>Los Angeles</td><td>Ebony Prepared Salad</td></tr><tr><td>11</td><td>Portland</td><td>Red Wing Bees Wax Candles</td></tr></table>"
                    },
                    "metadata": {}
                }
            ],
            "execution_count": 2
        },
        {
            "cell_type": "code",
            "source": [
                "SELECT c.store_city\r\n",
                "FROM dbo.cities_dim c\r\n",
                "WHERE c.store_city LIKE 'San%'"
            ],
            "metadata": {
                "azdata_cell_guid": "43603f8c-ac74-428e-af5f-26bc6b6b2c86",
                "language": "sql"
            },
            "outputs": [
                {
                    "output_type": "display_data",
                    "data": {
                        "text/html": "(2 rows affected)"
                    },
                    "metadata": {}
                },
                {
                    "output_type": "display_data",
                    "data": {
                        "text/html": "Total execution time: 00:00:00.072"
                    },
                    "metadata": {}
                },
                {
                    "output_type": "execute_result",
                    "execution_count": 2,
                    "data": {
                        "application/vnd.dataresource+json": {
                            "schema": {
                                "fields": [
                                    {
                                        "name": "store_city"
                                    }
                                ]
                            },
                            "data": [
                                {
                                    "store_city": "San Francisco"
                                },
                                {
                                    "store_city": "San Diego"
                                }
                            ]
                        },
                        "text/html": "<table><tr><th>store_city</th></tr><tr><td>San Francisco</td></tr><tr><td>San Diego</td></tr></table>"
                    },
                    "metadata": {}
                }
            ],
            "execution_count": 2
        },
        {
            "cell_type": "code",
            "source": [
                ""
            ],
            "metadata": {
                "azdata_cell_guid": "76929c31-a7e4-4c33-bc55-2e90d027e8bb",
                "language": "sql"
            },
            "outputs": [],
            "execution_count": null
        }
    ]
}